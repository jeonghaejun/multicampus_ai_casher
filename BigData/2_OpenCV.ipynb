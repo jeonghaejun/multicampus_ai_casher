{
 "cells": [
  {
   "cell_type": "code",
   "execution_count": 30,
   "metadata": {},
   "outputs": [],
   "source": [
    "import cv2, sys\n",
    "from matplotlib import pyplot as plt\n",
    "import numpy as np\n",
    "import glob"
   ]
  },
  {
   "cell_type": "code",
   "execution_count": 109,
   "metadata": {},
   "outputs": [],
   "source": [
    "path=glob.glob(\"images/*\")[:20]"
   ]
  },
  {
   "cell_type": "code",
   "execution_count": 117,
   "metadata": {},
   "outputs": [
    {
     "name": "stderr",
     "output_type": "stream",
     "text": [
      "<ipython-input-117-79364e360d2a>:22: VisibleDeprecationWarning: Creating an ndarray from ragged nested sequences (which is a list-or-tuple of lists-or-tuples-or ndarrays with different lengths or shapes) is deprecated. If you meant to do this, you must specify 'dtype=object' when creating the ndarray\n",
      "  contours_xy = np.array(contours)\n"
     ]
    }
   ],
   "source": [
    "for k in range(2):\n",
    "    for img in glob.glob(path[k]+'/*.jpg')[:5]:\n",
    "\n",
    "        image = cv2.imread(img)\n",
    "        image_gray = cv2.imread(img, cv2.IMREAD_GRAYSCALE)\n",
    "\n",
    "        b,g,r = cv2.split(image)\n",
    "        image2 = cv2.merge([r,g,b])\n",
    "\n",
    "    #     blur = cv2.GaussianBlur(image_gray, ksize=(5,5), sigmaX=0)\n",
    "    #     blur = cv2.medianBlur(image_gray,7)\n",
    "    #     blur = cv2.blur(image_gray,(5,5))\n",
    "        blur = cv2.bilateralFilter(image_gray,9,75,75)\n",
    "\n",
    "        ret, thresh1 = cv2.threshold(blur, 127, 255, cv2.THRESH_BINARY)\n",
    "        edged = cv2.Canny(blur, 10, 250)\n",
    "        kernel = cv2.getStructuringElement(cv2.MORPH_RECT, (7,7))\n",
    "        closed = cv2.morphologyEx(edged, cv2.MORPH_CLOSE, kernel)\n",
    "        contours, _ = cv2.findContours(closed.copy(),cv2.RETR_EXTERNAL, cv2.CHAIN_APPROX_SIMPLE)\n",
    "        total = 0\n",
    "        contours_image = cv2.drawContours(image, contours, -1, (0,255,0), 3)\n",
    "        contours_xy = np.array(contours)\n",
    "\n",
    "        # x의 min과 max 찾기\n",
    "        x_min, x_max = 0,0\n",
    "        value = list()\n",
    "        for i in range(len(contours_xy)):\n",
    "            for j in range(len(contours_xy[i])):\n",
    "                value.append(contours_xy[i][j][0][0]) #네번째 괄호가 0일때 x의 값\n",
    "                x_min = min(value)\n",
    "                x_max = max(value)\n",
    "\n",
    "        # y의 min과 max 찾기\n",
    "        y_min, y_max = 0,0\n",
    "        value = list()\n",
    "        for i in range(len(contours_xy)):\n",
    "            for j in range(len(contours_xy[i])):\n",
    "                value.append(contours_xy[i][j][0][1]) #네번째 괄호가 0일때 x의 값\n",
    "                y_min = min(value)\n",
    "                y_max = max(value)\n",
    "\n",
    "        # image trim 하기\n",
    "        x = x_min\n",
    "        y = y_min\n",
    "        w = x_max-x_min\n",
    "        h = y_max-y_min\n",
    "        img_trim = image[y:y+h, x:x+w]\n",
    "        cv2.imwrite('org_trim.jpg', img_trim)\n",
    "        org_image = cv2.imread('org_trim.jpg')\n",
    "    #     cv2.imshow('org_image', org_image)\n",
    "    #     cv2.waitKey(0)\n",
    "    #     cv2.destroyAllWindows()\n",
    "\n",
    "        # text 파일 작성\n",
    "        with open (str(img)+'.txt','w') as f:\n",
    "            f.write(' '.join([str(k),str(x),str(y),str(w),str(h)]))"
   ]
  },
  {
   "cell_type": "code",
   "execution_count": null,
   "metadata": {},
   "outputs": [],
   "source": []
  }
 ],
 "metadata": {
  "kernelspec": {
   "display_name": "Python 3",
   "language": "python",
   "name": "python3"
  },
  "language_info": {
   "codemirror_mode": {
    "name": "ipython",
    "version": 3
   },
   "file_extension": ".py",
   "mimetype": "text/x-python",
   "name": "python",
   "nbconvert_exporter": "python",
   "pygments_lexer": "ipython3",
   "version": "3.8.5"
  }
 },
 "nbformat": 4,
 "nbformat_minor": 4
}
